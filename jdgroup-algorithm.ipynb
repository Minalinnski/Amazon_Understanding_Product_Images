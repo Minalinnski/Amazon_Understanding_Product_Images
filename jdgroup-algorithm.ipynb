{
 "cells": [
  {
   "cell_type": "code",
   "execution_count": 56,
   "metadata": {},
   "outputs": [],
   "source": [
    "import cv2\n",
    "import numpy as np\n",
    "import os\n",
    "\n",
    "# Section 3.1 of JD Group Algorithm: Image Alignment\n",
    "def align(img, img_ref):\n",
    "    \n",
    "    # convert to grayscale\n",
    "    img_gray = cv2.cvtColor(img, cv2.COLOR_BGR2GRAY)\n",
    "    img_ref_gray = cv2.cvtColor(img_ref, cv2.COLOR_BGR2GRAY)\n",
    "    \n",
    "    # canny edge detection\n",
    "    edged = cv2.Canny(img_gray, 100, 200)\n",
    "    edged_ref = cv2.Canny(img_ref_gray, 100, 200)\n",
    "    \n",
    "    # finding contours\n",
    "    contours, hierarchy = cv2.findContours(edged, cv2.RETR_EXTERNAL, cv2.CHAIN_APPROX_NONE)\n",
    "    contours_ref, hierarchy_ref = cv2.findContours(edged_ref, \n",
    "                                    cv2.RETR_EXTERNAL, cv2.CHAIN_APPROX_NONE)\n",
    "    \n",
    "    # SIFT keypoints detection\n",
    "    sift = cv2.SIFT_create(5000)\n",
    "    kp, d = sift.detectAndCompute(edged, None)\n",
    "    kp_ref, d_ref = sift.detectAndCompute(edged_ref, None)\n",
    "    \n",
    "    # feature matching using a Brute Force matcher with  \n",
    "    # Hamming distance as measurement mode\n",
    "    bf = cv2.BFMatcher(cv2.NORM_L1, crossCheck = True) \n",
    "    \n",
    "    # match 2 sets of descriptors\n",
    "    matches = bf.match(d, d_ref)\n",
    "    matches = sorted(matches, key = lambda x:x.distance)\n",
    "    \n",
    "    # take the top 90 % matches forward. \n",
    "    matches = matches[:int(len(matches)*90)] \n",
    "    \n",
    "    # allocate memory for the keypoints (x, y)-coordinates from the\n",
    "    # top matches to compute homography matrix\n",
    "    pts = np.zeros((len(matches), 2), dtype=\"float\")\n",
    "    pts_ref = np.zeros((len(matches), 2), dtype=\"float\")\n",
    "    \n",
    "    # loop over top matches\n",
    "    # indicate that the two keypoints in the respective images\n",
    "    # map to each other\n",
    "    for (i, m) in enumerate(matches):\n",
    "        pts[i] = kp[m.queryIdx].pt\n",
    "        pts_ref[i] = kp_ref[m.trainIdx].pt\n",
    "        \n",
    "    # compute homography matrix between sets of matched points\n",
    "    homography, mask = cv2.findHomography(pts, pts_ref, method=cv2.RANSAC)\n",
    "    \n",
    "    # use homography matrix to align image\n",
    "    (height, width) = img_ref.shape[:2]\n",
    "    aligned = cv2.warpPerspective(img, homography, (width, height)) \n",
    "    \n",
    "    \n",
    "    return aligned\n"
   ]
  },
  {
   "cell_type": "code",
   "execution_count": 58,
   "metadata": {},
   "outputs": [],
   "source": [
    "# Concatenates two 3-channel input images into one 6-channel image\n",
    "def concat(img, img_ref):\n",
    "    concatenated = np.concatenate((img, img_ref), axis=2)\n",
    "    return concatenated"
   ]
  },
  {
   "cell_type": "code",
   "execution_count": 60,
   "metadata": {
    "scrolled": false
   },
   "outputs": [],
   "source": [
    "directory = r'Synthesized'\n",
    "directory_ref = r'Benign'\n",
    "for filename in os.listdir(directory):\n",
    "    if filename.endswith('.jpg'):\n",
    "        img_path = os.path.join(directory, filename)\n",
    "        img_ref_path = os.path.join(directory_ref, filename)\n",
    "        img = cv2.imread(img_path, cv2.IMREAD_COLOR)\n",
    "        img_ref = cv2.imread(img_ref_path, cv2.IMREAD_COLOR)\n",
    "        aligned_img = align(img, img_ref)\n",
    "        cv2.imwrite('Aligned/' + filename, aligned_img)\n",
    "\n",
    "        "
   ]
  }
 ],
 "metadata": {
  "kernelspec": {
   "display_name": "Python 3",
   "language": "python",
   "name": "python3"
  },
  "language_info": {
   "codemirror_mode": {
    "name": "ipython",
    "version": 3
   },
   "file_extension": ".py",
   "mimetype": "text/x-python",
   "name": "python",
   "nbconvert_exporter": "python",
   "pygments_lexer": "ipython3",
   "version": "3.7.4"
  }
 },
 "nbformat": 4,
 "nbformat_minor": 2
}
